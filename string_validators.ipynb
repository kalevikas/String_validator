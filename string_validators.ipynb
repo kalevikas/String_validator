{
 "cells": [
  {
   "cell_type": "markdown",
   "id": "2d98051d",
   "metadata": {},
   "source": [
    "# String Validators"
   ]
  },
  {
   "cell_type": "markdown",
   "id": "a7c5d671",
   "metadata": {},
   "source": [
    "- Python has built-in string validation methods for basic data. It can check if a string is composed of alphabetical characters, alphanumeric characters, digits, etc.\n",
    "\n",
    "- 1)str.isalnum()\n",
    "  2)str.isalpha()\n",
    "  3)str.isdigit()\n",
    "  4)str.islower()\n",
    "  5)str.isupper()\n",
    "  "
   ]
  },
  {
   "cell_type": "markdown",
   "id": "2219ab74",
   "metadata": {},
   "source": [
    "# 1] str.isalnum()"
   ]
  },
  {
   "cell_type": "markdown",
   "id": "957126b7",
   "metadata": {},
   "source": [
    "- This method checks if all the characters of a string are alphanumeric (a-z, A-Z and 0-9).\n",
    "\n",
    "- Return true if all characters in the string are alphanumeric and there is at least one character, false otherwise."
   ]
  },
  {
   "cell_type": "code",
   "execution_count": 2,
   "id": "9f95823f",
   "metadata": {},
   "outputs": [
    {
     "name": "stdout",
     "output_type": "stream",
     "text": [
      "True\n"
     ]
    }
   ],
   "source": [
    "# ex:\n",
    "str1='abc1234'\n",
    "print(str1.isalnum())"
   ]
  },
  {
   "cell_type": "code",
   "execution_count": 3,
   "id": "68b4dc5a",
   "metadata": {},
   "outputs": [
    {
     "name": "stdout",
     "output_type": "stream",
     "text": [
      "True\n"
     ]
    }
   ],
   "source": [
    "str2='123abcAHHSAI'\n",
    "print(str2.isalnum())"
   ]
  },
  {
   "cell_type": "code",
   "execution_count": 4,
   "id": "c04f22d2",
   "metadata": {},
   "outputs": [
    {
     "name": "stdout",
     "output_type": "stream",
     "text": [
      "False\n"
     ]
    }
   ],
   "source": [
    "str3='abc123Ahg@'\n",
    "print(str3.isalnum())"
   ]
  },
  {
   "cell_type": "markdown",
   "id": "6587acd1",
   "metadata": {},
   "source": [
    "# 2] isalpha()"
   ]
  },
  {
   "cell_type": "markdown",
   "id": "e16d5127",
   "metadata": {},
   "source": [
    "- This method checks if all the characters of a string are alphabetical (a-z and A-Z).\n",
    "\n",
    "- Return true if all characters in the string are alphabetic and there is at least one character, false otherwise."
   ]
  },
  {
   "cell_type": "code",
   "execution_count": 5,
   "id": "a5344479",
   "metadata": {},
   "outputs": [
    {
     "name": "stdout",
     "output_type": "stream",
     "text": [
      "True\n"
     ]
    }
   ],
   "source": [
    "str1='abcdTRMN'\n",
    "print(str1.isalpha())"
   ]
  },
  {
   "cell_type": "code",
   "execution_count": 6,
   "id": "cff6594a",
   "metadata": {},
   "outputs": [
    {
     "name": "stdout",
     "output_type": "stream",
     "text": [
      "False\n"
     ]
    }
   ],
   "source": [
    "str2='abgh5'\n",
    "print(str2.isalpha())"
   ]
  },
  {
   "cell_type": "code",
   "execution_count": 7,
   "id": "554234d2",
   "metadata": {},
   "outputs": [
    {
     "name": "stdout",
     "output_type": "stream",
     "text": [
      "False\n"
     ]
    }
   ],
   "source": [
    "str3='abcd#'\n",
    "print(str3.isalpha())"
   ]
  },
  {
   "cell_type": "markdown",
   "id": "fdfb0ec2",
   "metadata": {},
   "source": [
    "# 3] isdigit()"
   ]
  },
  {
   "cell_type": "markdown",
   "id": "a74c3728",
   "metadata": {},
   "source": [
    "- This method checks if all the characters of a string are digits (0-9).\n",
    "\n",
    "- Return true if all characters in the string are digits and there is at least one character, false otherwise.\n",
    "\n"
   ]
  },
  {
   "cell_type": "code",
   "execution_count": 8,
   "id": "ec844671",
   "metadata": {},
   "outputs": [
    {
     "name": "stdout",
     "output_type": "stream",
     "text": [
      "True\n"
     ]
    }
   ],
   "source": [
    "str1='12345'\n",
    "print(str1.isdigit())"
   ]
  },
  {
   "cell_type": "code",
   "execution_count": 9,
   "id": "c56bd1a4",
   "metadata": {},
   "outputs": [
    {
     "name": "stdout",
     "output_type": "stream",
     "text": [
      "False\n"
     ]
    }
   ],
   "source": [
    "str2='1234a'\n",
    "print(str2.isdigit())"
   ]
  },
  {
   "cell_type": "code",
   "execution_count": 13,
   "id": "63b625df",
   "metadata": {},
   "outputs": [
    {
     "name": "stdout",
     "output_type": "stream",
     "text": [
      "True\n",
      "False\n"
     ]
    }
   ],
   "source": [
    "s='qA2'\n",
    "print(s.isalnum())\n",
    "print(s.isalpha())"
   ]
  },
  {
   "cell_type": "code",
   "execution_count": 14,
   "id": "9e9a8a24",
   "metadata": {},
   "outputs": [
    {
     "data": {
      "text/plain": [
       "'qA2'"
      ]
     },
     "execution_count": 14,
     "metadata": {},
     "output_type": "execute_result"
    }
   ],
   "source": [
    "s"
   ]
  },
  {
   "cell_type": "code",
   "execution_count": 15,
   "id": "591ce5a2",
   "metadata": {},
   "outputs": [
    {
     "data": {
      "text/plain": [
       "'q'"
      ]
     },
     "execution_count": 15,
     "metadata": {},
     "output_type": "execute_result"
    }
   ],
   "source": [
    "s[0]"
   ]
  },
  {
   "cell_type": "markdown",
   "id": "976a0e67",
   "metadata": {},
   "source": [
    "In the first line, print True if s has any alphanumeric characters. Otherwise, print False.\n",
    "In the second line, print True if s has any alphabetical characters. Otherwise, print False.\n",
    "In the third line, print True if s has any digits. Otherwise, print False.\n",
    "In the fourth line, print True if s has any lowercase characters. Otherwise, print False.\n",
    "In the fifth line, print True if s has any uppercase characters. Otherwise, print False."
   ]
  },
  {
   "cell_type": "code",
   "execution_count": 16,
   "id": "3388beb3",
   "metadata": {},
   "outputs": [
    {
     "data": {
      "text/plain": [
       "'qA2'"
      ]
     },
     "execution_count": 16,
     "metadata": {},
     "output_type": "execute_result"
    }
   ],
   "source": [
    "s"
   ]
  },
  {
   "cell_type": "code",
   "execution_count": 17,
   "id": "d09c3688",
   "metadata": {},
   "outputs": [
    {
     "name": "stdout",
     "output_type": "stream",
     "text": [
      "q\n",
      "A\n",
      "2\n"
     ]
    }
   ],
   "source": [
    "for i in s:\n",
    "    print(i)"
   ]
  },
  {
   "cell_type": "code",
   "execution_count": 18,
   "id": "c541853c",
   "metadata": {},
   "outputs": [
    {
     "data": {
      "text/plain": [
       "str"
      ]
     },
     "execution_count": 18,
     "metadata": {},
     "output_type": "execute_result"
    }
   ],
   "source": [
    "type(i)"
   ]
  },
  {
   "cell_type": "code",
   "execution_count": 21,
   "id": "a07e3ee9",
   "metadata": {},
   "outputs": [
    {
     "name": "stdout",
     "output_type": "stream",
     "text": [
      "True\n",
      "True\n",
      "True\n",
      "True\n",
      "True\n"
     ]
    }
   ],
   "source": [
    "s='qA2'\n",
    "print(any([i.isalnum() for i in s]))\n",
    "print(any([i.isalpha() for i in s]))\n",
    "print(any([i.isdigit() for i in s]))\n",
    "print(any([i.islower() for i in s]))\n",
    "print(any([i.isupper() for i in s]))\n"
   ]
  },
  {
   "cell_type": "markdown",
   "id": "761c8c3e",
   "metadata": {},
   "source": [
    "# any() function"
   ]
  },
  {
   "cell_type": "markdown",
   "id": "578ca881",
   "metadata": {},
   "source": [
    "- The any() function returns True if any item in an iterable are true, otherwise it returns False.\n",
    "\n",
    "- If the iterable object is empty, the any() function will return False.\n",
    "\n",
    "- parameter of any():- is An iterable object (list, tuple, dictionary)\n",
    "\n",
    "- syntax:- any(iterable)"
   ]
  },
  {
   "cell_type": "code",
   "execution_count": 22,
   "id": "86bdf8c7",
   "metadata": {},
   "outputs": [
    {
     "name": "stdout",
     "output_type": "stream",
     "text": [
      "True\n"
     ]
    }
   ],
   "source": [
    "mylist=[True,False,True,False,False,True,False]\n",
    "a=any(mylist)\n",
    "print(a)"
   ]
  },
  {
   "cell_type": "code",
   "execution_count": 23,
   "id": "23502a84",
   "metadata": {},
   "outputs": [
    {
     "name": "stdout",
     "output_type": "stream",
     "text": [
      "True\n",
      "True\n",
      "True\n",
      "True\n",
      "True\n"
     ]
    }
   ],
   "source": [
    "s='qA2'\n",
    "print(any([i.isalnum() for i in s]))\n",
    "print(any([i.isalpha() for i in s]))\n",
    "print(any([i.isdigit() for i in s]))\n",
    "print(any([i.islower() for i in s]))\n",
    "print(any([i.isupper() for i in s]))\n"
   ]
  },
  {
   "cell_type": "code",
   "execution_count": null,
   "id": "0bb4ad3b",
   "metadata": {},
   "outputs": [],
   "source": []
  }
 ],
 "metadata": {
  "kernelspec": {
   "display_name": "Python 3",
   "language": "python",
   "name": "python3"
  },
  "language_info": {
   "codemirror_mode": {
    "name": "ipython",
    "version": 3
   },
   "file_extension": ".py",
   "mimetype": "text/x-python",
   "name": "python",
   "nbconvert_exporter": "python",
   "pygments_lexer": "ipython3",
   "version": "3.8.8"
  }
 },
 "nbformat": 4,
 "nbformat_minor": 5
}
